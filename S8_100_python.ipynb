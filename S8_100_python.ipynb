{
 "cells": [
  {
   "cell_type": "code",
   "execution_count": 1,
   "metadata": {},
   "outputs": [
    {
     "name": "stdout",
     "output_type": "stream",
     "text": [
      "Enter the number of elements to be inserted: 5\n",
      "Enter element: 1\n",
      "Enter element: 2\n",
      "Enter element: 3\n",
      "Enter element: 4\n",
      "Enter element: 5\n",
      "Average of elements in the list 3.0\n"
     ]
    }
   ],
   "source": [
    "#1 Python Program to Calculate the Average of Numbers in a Given List\n",
    "n=int(input(\"Enter the number of elements to be inserted: \"))\n",
    "a=[]\n",
    "for i in range(0,n):\n",
    "    elem=int(input(\"Enter element: \"))\n",
    "    a.append(elem)\n",
    "avg=sum(a)/n\n",
    "print(\"Average of elements in the list\",round(avg,2))"
   ]
  },
  {
   "cell_type": "code",
   "execution_count": 2,
   "metadata": {},
   "outputs": [
    {
     "name": "stdout",
     "output_type": "stream",
     "text": [
      "Enter value of first variable: 5\n",
      "Enter value of second variable: 6\n",
      "a is: 6  b is: 5\n"
     ]
    }
   ],
   "source": [
    "#2 Python Program to Exchange the Values of Two Numbers Without Using a Temporary Variable\n",
    "a=int(input(\"Enter value of first variable: \"))\n",
    "b=int(input(\"Enter value of second variable: \"))\n",
    "a=a+b\n",
    "b=a-b\n",
    "a=a-b\n",
    "print(\"a is:\",a,\" b is:\",b)"
   ]
  },
  {
   "cell_type": "code",
   "execution_count": 3,
   "metadata": {},
   "outputs": [
    {
     "name": "stdout",
     "output_type": "stream",
     "text": [
      "Enter a number n: 5\n",
      "The value is: 615\n"
     ]
    }
   ],
   "source": [
    "#3 Python Program to Read a Number n and Compute n+nn+nnn\n",
    "n=int(input(\"Enter a number n: \"))\n",
    "temp=str(n)\n",
    "t1=temp+temp\n",
    "t2=temp+temp+temp\n",
    "comp=n+int(t1)+int(t2)\n",
    "print(\"The value is:\",comp)"
   ]
  },
  {
   "cell_type": "code",
   "execution_count": 4,
   "metadata": {},
   "outputs": [
    {
     "name": "stdout",
     "output_type": "stream",
     "text": [
      "Enter number: 56435\n",
      "Reverse of the number: 53465\n"
     ]
    }
   ],
   "source": [
    "#4 Python Program to Reverse a Given Number\n",
    "n=int(input(\"Enter number: \"))\n",
    "rev=0\n",
    "while(n>0):\n",
    "    dig=n%10\n",
    "    rev=rev*10+dig\n",
    "    n=n//10\n",
    "print(\"Reverse of the number:\",rev)"
   ]
  },
  {
   "cell_type": "code",
   "execution_count": 5,
   "metadata": {},
   "outputs": [
    {
     "name": "stdout",
     "output_type": "stream",
     "text": [
      "Enter number: -5\n",
      "Number is negative\n"
     ]
    }
   ],
   "source": [
    "#5 Python Program to Check Whether a Number is Positive or Negative\n",
    " \n",
    "n=int(input(\"Enter number: \"))\n",
    "if(n>0):\n",
    "    print(\"Number is positive\")\n",
    "else:\n",
    "    print(\"Number is negative\")"
   ]
  },
  {
   "cell_type": "code",
   "execution_count": 6,
   "metadata": {},
   "outputs": [
    {
     "name": "stdout",
     "output_type": "stream",
     "text": [
      "Enter marks of the first subject: 5\n",
      "Enter marks of the second subject: 6\n",
      "Enter marks of the third subject: 9\n",
      "Enter marks of the fourth subject: 4\n",
      "Enter marks of the fifth subject: 6\n",
      "Grade: B\n"
     ]
    }
   ],
   "source": [
    "#6 Python Program to Take in the Marks of 5 Subjects and Display the Grade\n",
    "sub1=int(input(\"Enter marks of the first subject: \"))\n",
    "sub2=int(input(\"Enter marks of the second subject: \"))\n",
    "sub3=int(input(\"Enter marks of the third subject: \"))\n",
    "sub4=int(input(\"Enter marks of the fourth subject: \"))\n",
    "sub5=int(input(\"Enter marks of the fifth subject: \"))\n",
    "avg=int((sub1+sub2+sub3+sub4+sub4)/5)\n",
    "if(avg>=90):\n",
    "    print(\"Grade: A\")\n",
    "elif(avg>=80&avg<90):\n",
    "    print(\"Grade: B\")\n",
    "elif(avg>=70&avg<80):\n",
    "    print(\"Grade: C\")\n",
    "elif(avg>=60&avg<70):\n",
    "    print(\"Grade: D\")\n",
    "else:\n",
    "    print(\"Grade: F\")"
   ]
  },
  {
   "cell_type": "code",
   "execution_count": 7,
   "metadata": {},
   "outputs": [
    {
     "name": "stdout",
     "output_type": "stream",
     "text": [
      "Enter lower range limit:5\n",
      "Enter upper range limit:19\n",
      "Enter the number to be divided by:3\n",
      "6\n",
      "9\n",
      "12\n",
      "15\n",
      "18\n"
     ]
    }
   ],
   "source": [
    "#7 Python Program to Print all Numbers in a Range Divisible by a Given Number\n",
    "lower=int(input(\"Enter lower range limit:\"))\n",
    "upper=int(input(\"Enter upper range limit:\"))\n",
    "n=int(input(\"Enter the number to be divided by:\"))\n",
    "for i in range(lower,upper+1):\n",
    "    if(i%n==0):\n",
    "        print(i)"
   ]
  },
  {
   "cell_type": "code",
   "execution_count": 8,
   "metadata": {},
   "outputs": [
    {
     "name": "stdout",
     "output_type": "stream",
     "text": [
      "Enter the first number: 5\n",
      "Enter the second number: 6\n",
      "Quotient is: 0\n",
      "Remainder is: 5\n"
     ]
    }
   ],
   "source": [
    "#8 Python Program to Read Two Numbers and Print Their Quotient and Remainder\n",
    " \n",
    "a=int(input(\"Enter the first number: \"))\n",
    "b=int(input(\"Enter the second number: \"))\n",
    "quotient=a//b\n",
    "remainder=a%b\n",
    "print(\"Quotient is:\",quotient)\n",
    "print(\"Remainder is:\",remainder)"
   ]
  },
  {
   "cell_type": "code",
   "execution_count": 9,
   "metadata": {},
   "outputs": [
    {
     "name": "stdout",
     "output_type": "stream",
     "text": [
      "Enter first number:5\n",
      "Enter second number:8\n",
      "Enter third number:9\n",
      "5 8 9\n",
      "5 9 8\n",
      "8 5 9\n",
      "8 9 5\n",
      "9 5 8\n",
      "9 8 5\n"
     ]
    }
   ],
   "source": [
    "#9 Python Program to Accept Three Digits and Print all Possible Combinations from the Digits\n",
    "a=int(input(\"Enter first number:\"))\n",
    "b=int(input(\"Enter second number:\"))\n",
    "c=int(input(\"Enter third number:\"))\n",
    "d=[]\n",
    "d.append(a)\n",
    "d.append(b)\n",
    "d.append(c)\n",
    "for i in range(0,3):\n",
    "    for j in range(0,3):\n",
    "        for k in range(0,3):\n",
    "            if(i!=j&j!=k&k!=i):\n",
    "                print(d[i],d[j],d[k])"
   ]
  },
  {
   "cell_type": "code",
   "execution_count": 10,
   "metadata": {},
   "outputs": [
    {
     "name": "stdout",
     "output_type": "stream",
     "text": [
      "Enter the lower limit for the range:6\n",
      "Enter the upper limit for the range:31\n",
      "7\n",
      "9\n",
      "11\n",
      "13\n",
      "15\n",
      "17\n",
      "19\n",
      "21\n",
      "23\n",
      "25\n",
      "27\n",
      "29\n",
      "31\n"
     ]
    }
   ],
   "source": [
    "#10 Python Program to Print Odd Numbers Within a Given Range\n",
    "lower=int(input(\"Enter the lower limit for the range:\"))\n",
    "upper=int(input(\"Enter the upper limit for the range:\"))\n",
    "for i in range(lower,upper+1):\n",
    "    if(i%2!=0):\n",
    "        print(i)"
   ]
  },
  {
   "cell_type": "code",
   "execution_count": 11,
   "metadata": {},
   "outputs": [
    {
     "name": "stdout",
     "output_type": "stream",
     "text": [
      "Enter a number:56849\n",
      "The total sum of digits is: 32\n"
     ]
    }
   ],
   "source": [
    "#11 Python Program to Find the Sum of Digits in a Number\n",
    "n=int(input(\"Enter a number:\"))\n",
    "tot=0\n",
    "while(n>0):\n",
    "    dig=n%10\n",
    "    tot=tot+dig\n",
    "    n=n//10\n",
    "print(\"The total sum of digits is:\",tot)"
   ]
  },
  {
   "cell_type": "code",
   "execution_count": 12,
   "metadata": {},
   "outputs": [
    {
     "name": "stdout",
     "output_type": "stream",
     "text": [
      "Enter an integer:528\n",
      "Smallest divisor is: 2\n"
     ]
    }
   ],
   "source": [
    "#12 Python Program to Find the Smallest Divisor of an Integer\n",
    "n=int(input(\"Enter an integer:\"))\n",
    "a=[]\n",
    "for i in range(2,n+1):\n",
    "    if(n%i==0):\n",
    "        a.append(i)\n",
    "a.sort()\n",
    "print(\"Smallest divisor is:\",a[0])"
   ]
  },
  {
   "cell_type": "code",
   "execution_count": 13,
   "metadata": {},
   "outputs": [
    {
     "name": "stdout",
     "output_type": "stream",
     "text": [
      "Enter number:5241\n",
      "The number of digits in the number are: 4\n"
     ]
    }
   ],
   "source": [
    "#13 Python Program to Count the Number of Digits in a Number\n",
    "n=int(input(\"Enter number:\"))\n",
    "count=0\n",
    "while(n>0):\n",
    "    count=count+1\n",
    "    n=n//10\n",
    "print(\"The number of digits in the number are:\",count)"
   ]
  },
  {
   "cell_type": "code",
   "execution_count": 14,
   "metadata": {},
   "outputs": [
    {
     "name": "stdout",
     "output_type": "stream",
     "text": [
      "Enter number:52421563\n",
      "The number isn't a palindrome!\n"
     ]
    }
   ],
   "source": [
    "#14 Python Program to Check if a Number is a Palindrome\n",
    "n=int(input(\"Enter number:\"))\n",
    "temp=n\n",
    "rev=0\n",
    "while(n>0):\n",
    "    dig=n%10\n",
    "    rev=rev*10+dig\n",
    "    n=n//10\n",
    "if(temp==rev):\n",
    "    print(\"The number is a palindrome!\")\n",
    "else:\n",
    "    print(\"The number isn't a palindrome!\")"
   ]
  },
  {
   "cell_type": "code",
   "execution_count": 15,
   "metadata": {},
   "outputs": [],
   "source": [
    "#15 Python Program to Print all Integers that Aren't Divisible by Either 2 or 3 and Lie between 1 and 50.\n",
    "for i in range(0,51):\n",
    "    if(i%2!=0 & i%3!=0):\n",
    "        print(i)"
   ]
  },
  {
   "cell_type": "code",
   "execution_count": 16,
   "metadata": {},
   "outputs": [
    {
     "name": "stdout",
     "output_type": "stream",
     "text": [
      "Enter a number: 5\n",
      "1 + 2 + 3 + 4 + 5 = 15\n",
      "\n"
     ]
    }
   ],
   "source": [
    "#16 Python Program to Read a Number n And Print the Series \"1+2+…..+n= \"\n",
    "n=int(input(\"Enter a number: \"))\n",
    "a=[]\n",
    "for i in range(1,n+1):\n",
    "    print(i,sep=\" \",end=\" \")\n",
    "    if(i<n):\n",
    "        print(\"+\",sep=\" \",end=\" \")\n",
    "    a.append(i)\n",
    "print(\"=\",sum(a))\n",
    " \n",
    "print()"
   ]
  },
  {
   "cell_type": "code",
   "execution_count": 17,
   "metadata": {},
   "outputs": [
    {
     "name": "stdout",
     "output_type": "stream",
     "text": [
      "Enter a number: 7\n",
      "1 = 1\n",
      "1 + 2 = 3\n",
      "1 + 2 + 3 = 6\n",
      "1 + 2 + 3 + 4 = 10\n",
      "1 + 2 + 3 + 4 + 5 = 15\n",
      "1 + 2 + 3 + 4 + 5 + 6 = 21\n",
      "1 + 2 + 3 + 4 + 5 + 6 + 7 = 28\n",
      "\n"
     ]
    }
   ],
   "source": [
    "#17 Python Program to Read a Number n and Print the Natural Numbers Summation Pattern\n",
    "n=int(input(\"Enter a number: \"))\n",
    "for j in range(1,n+1):\n",
    "    a=[]\n",
    "    for i in range(1,j+1):\n",
    "        print(i,sep=\" \",end=\" \")\n",
    "        if(i<j):\n",
    "            print(\"+\",sep=\" \",end=\" \")\n",
    "        a.append(i)\n",
    "    print(\"=\",sum(a))\n",
    " \n",
    "print()"
   ]
  },
  {
   "cell_type": "code",
   "execution_count": 18,
   "metadata": {},
   "outputs": [
    {
     "name": "stdout",
     "output_type": "stream",
     "text": [
      "Enter a number: 5\n",
      "1 0 0 0 0 \n",
      "0 1 0 0 0 \n",
      "0 0 1 0 0 \n",
      "0 0 0 1 0 \n",
      "0 0 0 0 1 \n"
     ]
    }
   ],
   "source": [
    "#18 Python Program to Print an Identity Matrix\n",
    "n=int(input(\"Enter a number: \"))\n",
    "for i in range(0,n):\n",
    "    for j in range(0,n):\n",
    "        if(i==j):\n",
    "            print(\"1\",sep=\" \",end=\" \")\n",
    "        else:\n",
    "            print(\"0\",sep=\" \",end=\" \")\n",
    "    print()"
   ]
  },
  {
   "cell_type": "code",
   "execution_count": 19,
   "metadata": {},
   "outputs": [
    {
     "name": "stdout",
     "output_type": "stream",
     "text": [
      "Enter number of rows: 5\n",
      "*****\n",
      " ****\n",
      "  ***\n",
      "   **\n",
      "    *\n"
     ]
    }
   ],
   "source": [
    "#19 Python Program to Print an Inverted Star Pattern\n",
    "n=int(input(\"Enter number of rows: \"))\n",
    "for i in range (n,0,-1):\n",
    "    print((n-i) * ' ' + i * '*')"
   ]
  },
  {
   "cell_type": "code",
   "execution_count": 20,
   "metadata": {},
   "outputs": [
    {
     "name": "stdout",
     "output_type": "stream",
     "text": [
      "Enter upper limit of range: 85\n",
      "2\t3\t5\t7\t11\t13\t17\t19\t23\t29\t31\t37\t41\t43\t47\t53\t59\t61\t67\t71\t73\t79\t83\t\n"
     ]
    }
   ],
   "source": [
    "#20 Python Program to Read Print Prime Numbers in a Range using Sieve of Eratosthenes\n",
    "n=int(input(\"Enter upper limit of range: \"))\n",
    "sieve=set(range(2,n+1))\n",
    "while sieve:\n",
    "    prime=min(sieve)\n",
    "    print(prime,end=\"\t\")\n",
    "    sieve-=set(range(prime,n+1,prime))\n",
    " \n",
    "print()"
   ]
  },
  {
   "cell_type": "code",
   "execution_count": 21,
   "metadata": {},
   "outputs": [
    {
     "name": "stdout",
     "output_type": "stream",
     "text": [
      "Enter the date: 25/09/2020\n",
      "The incremented date is:  26 9 2020\n"
     ]
    }
   ],
   "source": [
    "#21 Python Program to Check if a Date is Valid and Print the Incremented Date if it is\n",
    "date=input(\"Enter the date: \")\n",
    "dd,mm,yy=date.split('/')\n",
    "dd=int(dd)\n",
    "mm=int(mm)\n",
    "yy=int(yy)\n",
    "if(mm==1 or mm==3 or mm==5 or mm==7 or mm==8 or mm==10 or mm==12):\n",
    "    max1=31\n",
    "elif(mm==4 or mm==6 or mm==9 or mm==11):\n",
    "    max1=30\n",
    "elif(yy%4==0 and yy%100!=0 or yy%400==0):\n",
    "    max1=29\n",
    "else:\n",
    "    max1=28\n",
    "if(mm<1 or mm>12):\n",
    "    print(\"Date is invalid.\")\n",
    "elif(dd<1 or dd>max1):\n",
    "    print(\"Date is invalid.\")\n",
    "elif(dd==max1 and mm!=12):\n",
    "    dd=1\n",
    "    mm=mm+1\n",
    "    print(\"The incremented date is: \",dd,mm,yy)\n",
    "elif(dd==31 and mm==12):\n",
    "    dd=1\n",
    "    mm=1\n",
    "    yy=yy+1\n",
    "    print(\"The incremented date is: \",dd,mm,yy)\n",
    "else:\n",
    "    dd=dd+1\n",
    "    print(\"The incremented date is: \",dd,mm,yy)"
   ]
  },
  {
   "cell_type": "code",
   "execution_count": 22,
   "metadata": {},
   "outputs": [
    {
     "name": "stdout",
     "output_type": "stream",
     "text": [
      "Enter the principle amount:52\n",
      "Enter the time(years):5\n",
      "Enter the rate:10\n",
      "The simple interest is: 26.0\n"
     ]
    }
   ],
   "source": [
    "#22 Python Program to Compute Simple Interest Given all the Required Values\n",
    "principle=float(input(\"Enter the principle amount:\"))\n",
    "time=int(input(\"Enter the time(years):\"))\n",
    "rate=float(input(\"Enter the rate:\"))\n",
    "simple_interest=(principle*time*rate)/100\n",
    "print(\"The simple interest is:\",simple_interest)"
   ]
  },
  {
   "cell_type": "code",
   "execution_count": 23,
   "metadata": {},
   "outputs": [
    {
     "name": "stdout",
     "output_type": "stream",
     "text": [
      "Enter year to be checked:1996\n",
      "The year is a leap year!\n"
     ]
    }
   ],
   "source": [
    "#23 Python Program to Check Whether a Given Year is a Leap Year\n",
    "year=int(input(\"Enter year to be checked:\"))\n",
    "if(year%4==0 and year%100!=0 or year%400==0):\n",
    "    print(\"The year is a leap year!\")\n",
    "else:\n",
    "    print(\"The year isn't a leap year!\")"
   ]
  },
  {
   "cell_type": "code",
   "execution_count": 24,
   "metadata": {},
   "outputs": [
    {
     "name": "stdout",
     "output_type": "stream",
     "text": [
      "Enter the height in centimeters:185\n",
      "The length in inches 72.89\n",
      "The length in feet 6.07\n"
     ]
    }
   ],
   "source": [
    "#24 Python Program to Read Height in Centimeters and then Convert the Height to Feet and Inches\n",
    "cm=int(input(\"Enter the height in centimeters:\"))\n",
    "inches=0.394*cm\n",
    "feet=0.0328*cm\n",
    "print(\"The length in inches\",round(inches,2))\n",
    "print(\"The length in feet\",round(feet,2))"
   ]
  },
  {
   "cell_type": "code",
   "execution_count": 25,
   "metadata": {},
   "outputs": [
    {
     "name": "stdout",
     "output_type": "stream",
     "text": [
      "Enter the temperature in celcius:52\n",
      "Temperature in farenheit is: 125.60000000000001\n"
     ]
    }
   ],
   "source": [
    "#25 Python Program to Take the Temperature in Celcius and Covert it to Farenheit\n",
    "celsius=int(input(\"Enter the temperature in celcius:\"))\n",
    "f=(celsius*1.8)+32\n",
    "print(\"Temperature in farenheit is:\",f)"
   ]
  },
  {
   "cell_type": "code",
   "execution_count": 26,
   "metadata": {},
   "outputs": [
    {
     "name": "stdout",
     "output_type": "stream",
     "text": [
      "Enter an integer:524\n",
      "Factors are:\n",
      "2\n",
      "131\n"
     ]
    }
   ],
   "source": [
    "#26 Python Program to Compute Prime Factors of an Integer\n",
    "n=int(input(\"Enter an integer:\"))\n",
    "print(\"Factors are:\")\n",
    "i=1\n",
    "while(i<=n):\n",
    "    k=0\n",
    "    if(n%i==0):\n",
    "        j=1\n",
    "        while(j<=i):\n",
    "            if(i%j==0):\n",
    "                k=k+1\n",
    "            j=j+1\n",
    "        if(k==2):\n",
    "            print(i)\n",
    "    i=i+1"
   ]
  },
  {
   "cell_type": "code",
   "execution_count": 27,
   "metadata": {},
   "outputs": [
    {
     "name": "stdout",
     "output_type": "stream",
     "text": [
      "Enter an integer:52\n",
      "The divisors of the number are:\n",
      "1\n",
      "2\n",
      "4\n",
      "13\n",
      "26\n",
      "52\n"
     ]
    }
   ],
   "source": [
    "#27 Python Program to Generate all the Divisors of an Integer\n",
    "n=int(input(\"Enter an integer:\"))\n",
    "print(\"The divisors of the number are:\")\n",
    "for i in range(1,n+1):\n",
    "    if(n%i==0):\n",
    "        print(i)"
   ]
  },
  {
   "cell_type": "code",
   "execution_count": 28,
   "metadata": {},
   "outputs": [
    {
     "name": "stdout",
     "output_type": "stream",
     "text": [
      "Enter the number to print the tables for:15\n",
      "15 x 1 = 15\n",
      "15 x 2 = 30\n",
      "15 x 3 = 45\n",
      "15 x 4 = 60\n",
      "15 x 5 = 75\n",
      "15 x 6 = 90\n",
      "15 x 7 = 105\n",
      "15 x 8 = 120\n",
      "15 x 9 = 135\n",
      "15 x 10 = 150\n"
     ]
    }
   ],
   "source": [
    "#28 Python Program to Print Table of a Given Number\n",
    "n=int(input(\"Enter the number to print the tables for:\"))\n",
    "for i in range(1,11):\n",
    "    print(n,\"x\",i,\"=\",n*i)"
   ]
  },
  {
   "cell_type": "code",
   "execution_count": 29,
   "metadata": {},
   "outputs": [
    {
     "name": "stdout",
     "output_type": "stream",
     "text": [
      "Enter the number of elements to be in the list:5\n",
      "Element: 1\n",
      "Element: 6\n",
      "Element: 3\n",
      "Element: 2\n",
      "Element: 5\n",
      "Sum of all positive even numbers: 8\n",
      "Sum of all positive odd numbers: 9\n",
      "Sum of all negative numbers: 0\n"
     ]
    }
   ],
   "source": [
    "#29 Python Program to Print Sum of Negative Numbers, Positive Even Numbers and Positive Odd numbers in a List\n",
    "n=int(input(\"Enter the number of elements to be in the list:\"))\n",
    "b=[]\n",
    "for i in range(0,n):\n",
    "    a=int(input(\"Element: \"))\n",
    "    b.append(a)\n",
    "sum1=0\n",
    "sum2=0\n",
    "sum3=0\n",
    "for j in b:\n",
    "    if(j>0):\n",
    "        if(j%2==0):\n",
    "            sum1=sum1+j\n",
    "        else:\n",
    "            sum2=sum2+j\n",
    "    else:\n",
    "        sum3=sum3+j\n",
    "print(\"Sum of all positive even numbers:\",sum1)\n",
    "print(\"Sum of all positive odd numbers:\",sum2)\n",
    "print(\"Sum of all negative numbers:\",sum3)"
   ]
  },
  {
   "cell_type": "code",
   "execution_count": 30,
   "metadata": {},
   "outputs": [
    {
     "name": "stdout",
     "output_type": "stream",
     "text": [
      "Enter the number of elements to be in the list:5\n",
      "Element: 1\n",
      "Element: 8\n",
      "Element: 2\n",
      "Element: -6\n",
      "Element: 8\n",
      "Largest even number: 8\n",
      "Largest odd number 1\n"
     ]
    }
   ],
   "source": [
    "#30 Python Program to Print Largest Even and Largest Odd Number in a List\n",
    "n=int(input(\"Enter the number of elements to be in the list:\"))\n",
    "b=[]\n",
    "for i in range(0,n):\n",
    "    a=int(input(\"Element: \"))\n",
    "    b.append(a)\n",
    "c=[]\n",
    "d=[]\n",
    "for i in b:\n",
    "    if(i%2==0):\n",
    "        c.append(i)\n",
    "    else:\n",
    "        d.append(i)\n",
    "c.sort()\n",
    "d.sort()\n",
    "count1=0\n",
    "count2=0\n",
    "for k in c:\n",
    "    count1=count1+1\n",
    "for j in d:\n",
    "    count2=count2+1\n",
    "print(\"Largest even number:\",c[count1-1])\n",
    "print(\"Largest odd number\",d[count2-1])"
   ]
  },
  {
   "cell_type": "code",
   "execution_count": 31,
   "metadata": {},
   "outputs": [
    {
     "name": "stdout",
     "output_type": "stream",
     "text": [
      "Enter the number:5287\n",
      "The new number formed: 47\n"
     ]
    }
   ],
   "source": [
    "#31 Python Program to Form an Integer that has the Number of Digits at Ten's Place and the Least Significant Digit of the Entered Integer at One's Place\n",
    "n=int(input(\"Enter the number:\"))\n",
    "tmp=n\n",
    "k=0\n",
    "while(n>0):\n",
    "    k=k+1\n",
    "    n=n//10\n",
    "b=str(tmp)\n",
    "c=str(k)\n",
    "d=c+b[k-1]\n",
    "print(\"The new number formed:\",int(d))"
   ]
  },
  {
   "cell_type": "code",
   "execution_count": 32,
   "metadata": {},
   "outputs": [
    {
     "name": "stdout",
     "output_type": "stream",
     "text": [
      "Enter the lower range:5\n",
      "Enter the upper range:851\n",
      "35\n",
      "70\n",
      "105\n",
      "140\n",
      "175\n",
      "210\n",
      "245\n",
      "280\n",
      "315\n",
      "350\n",
      "385\n",
      "420\n",
      "455\n",
      "490\n",
      "525\n",
      "560\n",
      "595\n",
      "630\n",
      "665\n",
      "700\n",
      "735\n",
      "770\n",
      "805\n",
      "840\n"
     ]
    }
   ],
   "source": [
    "#32 Python Program to Find Those Numbers which are Divisible by 7 and Multiple of 5 in a Given Range of Numbers\n",
    "lower=int(input(\"Enter the lower range:\"))\n",
    "upper=int(input(\"Enter the upper range:\"))\n",
    "for i in range (lower,upper+1):\n",
    "    if(i%7==0 and i%5==0):\n",
    "        print(i)"
   ]
  },
  {
   "cell_type": "code",
   "execution_count": 33,
   "metadata": {},
   "outputs": [
    {
     "name": "stdout",
     "output_type": "stream",
     "text": [
      "Enter any number: 5482\n",
      "The number isn't an arsmtrong number. \n"
     ]
    }
   ],
   "source": [
    "#33 Python Program to Check if a Number is an Armstrong Number\n",
    "n=int(input(\"Enter any number: \"))\n",
    "a=list(map(int,str(n)))\n",
    "b=list(map(lambda x:x**3,a))\n",
    "if(sum(b)==n):\n",
    "    print(\"The number is an armstrong number. \")\n",
    "else:\n",
    "    print(\"The number isn't an arsmtrong number. \")"
   ]
  },
  {
   "cell_type": "code",
   "execution_count": 34,
   "metadata": {},
   "outputs": [
    {
     "name": "stdout",
     "output_type": "stream",
     "text": [
      "Enter number of rows: 5\n",
      "                     1 \n",
      "                  1      1 \n",
      "               1      2      1 \n",
      "            1      3      3      1 \n",
      "         1      4      6      4      1 \n"
     ]
    }
   ],
   "source": [
    "#34 Python Program to Print the Pascal's triangle for n number of rows given by the user\n",
    "n=int(input(\"Enter number of rows: \"))\n",
    "a=[]\n",
    "for i in range(n):\n",
    "    a.append([])\n",
    "    a[i].append(1)\n",
    "    for j in range(1,i):\n",
    "        a[i].append(a[i-1][j-1]+a[i-1][j])\n",
    "    if(n!=0):\n",
    "        a[i].append(1)\n",
    "for i in range(n):\n",
    "    print(\"   \"*(n-i),end=\" \",sep=\" \")\n",
    "    for j in range(0,i+1):\n",
    "        print('{0:6}'.format(a[i][j]),end=\" \",sep=\" \")\n",
    "    print()"
   ]
  },
  {
   "cell_type": "code",
   "execution_count": 35,
   "metadata": {},
   "outputs": [
    {
     "name": "stdout",
     "output_type": "stream",
     "text": [
      "Enter any number: 65\n",
      "The number is not a Perfect number!\n"
     ]
    }
   ],
   "source": [
    "#35 Python Program to Check if a Number is a Perfect Number\n",
    " \n",
    "n = int(input(\"Enter any number: \"))\n",
    "sum1 = 0\n",
    "for i in range(1, n):\n",
    "    if(n % i == 0):\n",
    "        sum1 = sum1 + i\n",
    "if (sum1 == n):\n",
    "    print(\"The number is a Perfect number!\")\n",
    "else:\n",
    "    print(\"The number is not a Perfect number!\")"
   ]
  },
  {
   "cell_type": "code",
   "execution_count": 36,
   "metadata": {},
   "outputs": [
    {
     "name": "stdout",
     "output_type": "stream",
     "text": [
      "Enter a number:85\n",
      "The number is not a strong number\n"
     ]
    }
   ],
   "source": [
    "#36 Python Program to Check if a Number is a Strong Number\n",
    "sum1=0\n",
    "num=int(input(\"Enter a number:\"))\n",
    "temp=num\n",
    "while(num):\n",
    "    i=1\n",
    "    f=1\n",
    "    r=num%10\n",
    "    while(i<=r):\n",
    "        f=f*i\n",
    "        i=i+1\n",
    "    sum1=sum1+f\n",
    "    num=num//10\n",
    "if(sum1==temp):\n",
    "    print(\"The number is a strong number\")\n",
    "else:\n",
    "    print(\"The number is not a strong number\")"
   ]
  },
  {
   "cell_type": "code",
   "execution_count": 37,
   "metadata": {},
   "outputs": [
    {
     "name": "stdout",
     "output_type": "stream",
     "text": [
      "Enter the first number:5\n",
      "Enter the second number:62\n",
      "LCM is: 310\n"
     ]
    }
   ],
   "source": [
    "#37 Python Program to Find the LCM of Two Numbers\n",
    "a=int(input(\"Enter the first number:\"))\n",
    "b=int(input(\"Enter the second number:\"))\n",
    "if(a>b):\n",
    "    min1=a\n",
    "else:\n",
    "    min1=b\n",
    "while(1):\n",
    "    if(min1%a==0 and min1%b==0):\n",
    "        print(\"LCM is:\",min1)\n",
    "        break\n",
    "    min1=min1+1"
   ]
  },
  {
   "cell_type": "code",
   "execution_count": 123,
   "metadata": {},
   "outputs": [
    {
     "name": "stdout",
     "output_type": "stream",
     "text": [
      "Enter the first number:25\n",
      "Enter the second number:365\n",
      "The GCD of the two numbers is 5\n"
     ]
    }
   ],
   "source": [
    "#38 Python Program to Find the GCD of Two Numbers\n",
    "import fractions\n",
    "a=int(input(\"Enter the first number:\"))\n",
    "b=int(input(\"Enter the second number:\"))\n",
    "print(\"The GCD of the two numbers is\",math.gcd(a,b))"
   ]
  },
  {
   "cell_type": "code",
   "execution_count": 39,
   "metadata": {},
   "outputs": [
    {
     "name": "stdout",
     "output_type": "stream",
     "text": [
      "Enter the coefficients of the form ax^3 + bx^2 + cx + d\n",
      "Enter coefficient:5\n",
      "Enter coefficient:5\n",
      "Enter coefficient:6\n",
      "Enter coefficient:2\n",
      "Enter the value of x:3\n",
      "The value of the polynomial is: 200.0\n"
     ]
    }
   ],
   "source": [
    "#39 Python Program to Compute a Polynomial Equation given that the Coefficients of the Polynomial are stored in a List\n",
    "import math\n",
    "print(\"Enter the coefficients of the form ax^3 + bx^2 + cx + d\")\n",
    "lst=[]\n",
    "for i in range(0,4):\n",
    "    a=int(input(\"Enter coefficient:\"))\n",
    "    lst.append(a)\n",
    "x=int(input(\"Enter the value of x:\"))\n",
    "sum1=0\n",
    "j=3\n",
    "for i in range(0,3):\n",
    "    while(j>0):\n",
    "        sum1=sum1+(lst[i]*math.pow(x,j))\n",
    "        break\n",
    "    j=j-1\n",
    "sum1=sum1+lst[3]\n",
    "print(\"The value of the polynomial is:\",sum1)"
   ]
  },
  {
   "cell_type": "code",
   "execution_count": 40,
   "metadata": {},
   "outputs": [
    {
     "name": "stdout",
     "output_type": "stream",
     "text": [
      "Enter number 1: 52\n",
      "Enter number 2: 63\n",
      "Not Amicable!\n"
     ]
    }
   ],
   "source": [
    "#40 Python Program to Check If Two Numbers are Amicable Numbers\n",
    "x=int(input('Enter number 1: '))\n",
    "y=int(input('Enter number 2: '))\n",
    "sum1=0\n",
    "sum2=0\n",
    "for i in range(1,x):\n",
    "    if x%i==0:\n",
    "        sum1+=i\n",
    "for j in range(1,y):\n",
    "    if y%j==0:\n",
    "        sum2+=j\n",
    "if(sum1==y and sum2==x):\n",
    "    print('Amicable!')\n",
    "else:\n",
    "    print('Not Amicable!')"
   ]
  },
  {
   "cell_type": "code",
   "execution_count": 41,
   "metadata": {},
   "outputs": [
    {
     "name": "stdout",
     "output_type": "stream",
     "text": [
      "Enter first side: 5\n",
      "Enter second side: 8\n",
      "Enter third side: 6\n",
      "Area of the triangle is:  14.98\n"
     ]
    }
   ],
   "source": [
    "#41 Python Program to Find the Area of a Triangle Given All Three Sides\n",
    "import math\n",
    "a=int(input(\"Enter first side: \"))\n",
    "b=int(input(\"Enter second side: \"))\n",
    "c=int(input(\"Enter third side: \"))\n",
    "s=(a+b+c)/2\n",
    "area=math.sqrt(s*(s-a)*(s-b)*(s-c))\n",
    "print(\"Area of the triangle is: \",round(area,2))"
   ]
  },
  {
   "cell_type": "code",
   "execution_count": 42,
   "metadata": {},
   "outputs": [
    {
     "name": "stdout",
     "output_type": "stream",
     "text": [
      "Enter the first mass: 5\n",
      "Enter the second mass: 62\n",
      "Enter the distance between the centres of the masses: 85\n",
      "Hence, the gravitational force is:  0.0 N\n"
     ]
    }
   ],
   "source": [
    "#42 Python Program to Find the Gravitational Force Acting Between Two Objects\n",
    "m1=float(input(\"Enter the first mass: \"))\n",
    "m2=float(input(\"Enter the second mass: \"))\n",
    "r=float(input(\"Enter the distance between the centres of the masses: \"))\n",
    "G=6.673*(10**-11)\n",
    "f=(G*m1*m2)/(r**2)\n",
    "print(\"Hence, the gravitational force is: \",round(f,2),\"N\")"
   ]
  },
  {
   "cell_type": "code",
   "execution_count": 43,
   "metadata": {},
   "outputs": [
    {
     "name": "stdout",
     "output_type": "stream",
     "text": [
      "Enter number: 57\n",
      "Number isn't prime\n"
     ]
    }
   ],
   "source": [
    "#43 Python Program to Check if a Number is a Prime Number\n",
    "a=int(input(\"Enter number: \"))\n",
    "k=0\n",
    "for i in range(2,a//2+1):\n",
    "    if(a%i==0):\n",
    "        k=k+1\n",
    "if(k<=0):\n",
    "    print(\"Number is prime\")\n",
    "else:\n",
    "    print(\"Number isn't prime\")"
   ]
  },
  {
   "cell_type": "code",
   "execution_count": 44,
   "metadata": {},
   "outputs": [
    {
     "name": "stdout",
     "output_type": "stream",
     "text": [
      "Enter upper limit: 85\n",
      "2\n",
      "3\n",
      "5\n",
      "7\n",
      "11\n",
      "13\n",
      "17\n",
      "19\n",
      "23\n",
      "29\n",
      "31\n",
      "37\n",
      "41\n",
      "43\n",
      "47\n",
      "53\n",
      "59\n",
      "61\n",
      "67\n",
      "71\n",
      "73\n",
      "79\n",
      "83\n"
     ]
    }
   ],
   "source": [
    "#44 Python Program to Print all the Prime Numbers within a Given Range\n",
    "r=int(input(\"Enter upper limit: \"))\n",
    "for a in range(2,r+1):\n",
    "    k=0\n",
    "    for i in range(2,a//2+1):\n",
    "        if(a%i==0):\n",
    "            k=k+1\n",
    "    if(k<=0):\n",
    "        print(a)"
   ]
  },
  {
   "cell_type": "code",
   "execution_count": 45,
   "metadata": {},
   "outputs": [
    {
     "name": "stdout",
     "output_type": "stream",
     "text": [
      "Enter upper limit: 52\n",
      "1\n",
      "2\n",
      "3\n",
      "4\n",
      "5\n",
      "6\n",
      "7\n",
      "8\n",
      "9\n",
      "10\n",
      "11\n",
      "12\n",
      "13\n",
      "14\n",
      "15\n",
      "16\n",
      "17\n",
      "18\n",
      "19\n",
      "20\n",
      "21\n",
      "22\n",
      "23\n",
      "24\n",
      "25\n",
      "26\n",
      "27\n",
      "28\n",
      "29\n",
      "30\n",
      "31\n",
      "32\n",
      "33\n",
      "34\n",
      "35\n",
      "36\n",
      "37\n",
      "38\n",
      "39\n",
      "40\n",
      "41\n",
      "42\n",
      "43\n",
      "44\n",
      "45\n",
      "46\n",
      "47\n",
      "48\n",
      "49\n",
      "50\n",
      "51\n",
      "52\n"
     ]
    }
   ],
   "source": [
    "#45 Python Program to Print Numbers in a Range (1,upper) Without Using any Loops\n",
    "def printno(upper):\n",
    "    if(upper>0):\n",
    "        printno(upper-1)\n",
    "        print(upper)\n",
    "upper=int(input(\"Enter upper limit: \"))\n",
    "printno(upper)"
   ]
  },
  {
   "cell_type": "code",
   "execution_count": 46,
   "metadata": {},
   "outputs": [
    {
     "name": "stdout",
     "output_type": "stream",
     "text": [
      "Enter the value of x in degrees:23\n",
      "Enter the number of terms:5\n",
      "0.39\n"
     ]
    }
   ],
   "source": [
    "#46 Python Program to Find the Sum of Sine Series\n",
    "import math\n",
    "def sin(x,n):\n",
    "    sine = 0\n",
    "    for i in range(n):\n",
    "        sign = (-1)**i\n",
    "        pi=22/7\n",
    "        y=x*(pi/180)\n",
    "        sine = sine + ((y**(2.0*i+1))/math.factorial(2*i+1))*sign\n",
    "    return sine\n",
    "x=int(input(\"Enter the value of x in degrees:\"))\n",
    "n=int(input(\"Enter the number of terms:\"))\n",
    "print(round(sin(x,n),2))"
   ]
  },
  {
   "cell_type": "code",
   "execution_count": 47,
   "metadata": {},
   "outputs": [
    {
     "name": "stdout",
     "output_type": "stream",
     "text": [
      "Enter the value of x in degrees:2\n",
      "Enter the number of terms:4\n",
      "1.0\n"
     ]
    }
   ],
   "source": [
    "#47 Python Program to Find the Sum of Cosine Series\n",
    "import math\n",
    "def cosine(x,n):\n",
    "    cosx = 1\n",
    "    sign = -1\n",
    "    for i in range(2, n, 2):\n",
    "        pi=22/7\n",
    "        y=x*(pi/180)\n",
    "        cosx = cosx + (sign*(y**i))/math.factorial(i)\n",
    "        sign = -sign\n",
    "    return cosx\n",
    "x=int(input(\"Enter the value of x in degrees:\"))\n",
    "n=int(input(\"Enter the number of terms:\"))\n",
    "print(round(cosine(x,n),2))"
   ]
  },
  {
   "cell_type": "code",
   "execution_count": 48,
   "metadata": {},
   "outputs": [
    {
     "name": "stdout",
     "output_type": "stream",
     "text": [
      "Enter a number: 5\n",
      "The sum of first n natural numbers is 15\n"
     ]
    }
   ],
   "source": [
    "#48 Python Program to Find the Sum of First N Natural Numbers\n",
    "n=int(input(\"Enter a number: \"))\n",
    "sum1 = 0\n",
    "while(n > 0):\n",
    "    sum1=sum1+n\n",
    "    n=n-1\n",
    "print(\"The sum of first n natural numbers is\",sum1)"
   ]
  },
  {
   "cell_type": "code",
   "execution_count": 49,
   "metadata": {},
   "outputs": [
    {
     "name": "stdout",
     "output_type": "stream",
     "text": [
      "Enter the number of terms: 6\n",
      "The sum of series is 2.45\n"
     ]
    }
   ],
   "source": [
    "#49 Python Program to Find the Sum of the Series: 1 + 1/2 + 1/3 + ….. + 1/N\n",
    "n=int(input(\"Enter the number of terms: \"))\n",
    "sum1=0\n",
    "for i in range(1,n+1):\n",
    "    sum1=sum1+(1/i)\n",
    "print(\"The sum of series is\",round(sum1,2))"
   ]
  },
  {
   "cell_type": "code",
   "execution_count": 50,
   "metadata": {},
   "outputs": [
    {
     "name": "stdout",
     "output_type": "stream",
     "text": [
      "Enter the number of terms:6\n",
      "Enter the value of x:1\n",
      "The sum of series is 2.45\n"
     ]
    }
   ],
   "source": [
    "#50 Python Program to Find the Sum of the Series: 1 + x^2/2 + x^3/3 + … x^n/n\n",
    "n=int(input(\"Enter the number of terms:\"))\n",
    "x=int(input(\"Enter the value of x:\"))\n",
    "sum1=1\n",
    "for i in range(2,n+1):\n",
    "    sum1=sum1+((x**i)/i)\n",
    "print(\"The sum of series is\",round(sum1,2))"
   ]
  },
  {
   "cell_type": "code",
   "execution_count": 51,
   "metadata": {},
   "outputs": [
    {
     "name": "stdout",
     "output_type": "stream",
     "text": [
      "Enter the number of terms: 5\n",
      "The sum of series is 2.72\n"
     ]
    }
   ],
   "source": [
    "#51 Python Program to Compute the Value of Euler's Number e. Use the Formula: e = 1 + 1/1! + 1/2! + …… 1/n!\n",
    "import math\n",
    "n=int(input(\"Enter the number of terms: \"))\n",
    "sum1=1\n",
    "for i in range(1,n+1):\n",
    "    sum1=sum1+(1/math.factorial(i))\n",
    "print(\"The sum of series is\",round(sum1,2))"
   ]
  },
  {
   "cell_type": "code",
   "execution_count": 52,
   "metadata": {},
   "outputs": [
    {
     "name": "stdout",
     "output_type": "stream",
     "text": [
      "Enter upper limit:52\n",
      "3 4 5\n",
      "8 6 10\n",
      "5 12 13\n",
      "15 8 17\n",
      "12 16 20\n",
      "7 24 25\n",
      "24 10 26\n",
      "21 20 29\n",
      "16 30 34\n",
      "9 40 41\n",
      "35 12 37\n",
      "32 24 40\n",
      "27 36 45\n",
      "20 48 52\n"
     ]
    }
   ],
   "source": [
    "#52 Python Program to Determine all Pythagorean Triplets in the Range\n",
    "limit=int(input(\"Enter upper limit:\"))\n",
    "c=0\n",
    "m=2\n",
    "while(c<limit):\n",
    "    for n in range(1,m+1):\n",
    "        a=m*m-n*n\n",
    "        b=2*m*n\n",
    "        c=m*m+n*n\n",
    "        if(c>limit):\n",
    "            break\n",
    "        if(a==0 or b==0 or c==0):\n",
    "            break\n",
    "        print(a,b,c)\n",
    "    m=m+1"
   ]
  },
  {
   "cell_type": "code",
   "execution_count": 54,
   "metadata": {},
   "outputs": [
    {
     "name": "stdout",
     "output_type": "stream",
     "text": [
      "Enter number of elements:5\n",
      "Enter element:1\n",
      "Enter element:2\n",
      "Enter element:2\n",
      "Enter element:2\n",
      "Enter element:3\n",
      "Enter the number to be counted:2\n",
      "Number of times 2 appears is 3\n"
     ]
    }
   ],
   "source": [
    "#53 Python Program to Search the Number of Times a Particular Number Occurs in a List\n",
    "a=[]\n",
    "n=int(input(\"Enter number of elements:\"))\n",
    "for i in range(1,n+1):\n",
    "    b=int(input(\"Enter element:\"))\n",
    "    a.append(b)\n",
    "k=0\n",
    "num=int(input(\"Enter the number to be counted:\"))\n",
    "for j in a:\n",
    "    if(j==num):\n",
    "        k=k+1\n",
    "print(\"Number of times\",num,\"appears is\",k)"
   ]
  },
  {
   "cell_type": "code",
   "execution_count": 57,
   "metadata": {},
   "outputs": [
    {
     "name": "stdout",
     "output_type": "stream",
     "text": [
      "Enter n: 5\n",
      "Sequence: 5 16 8 4 2 1"
     ]
    }
   ],
   "source": [
    "#54 Python Program to test Collatz Conjecture for a Given Number\n",
    "def collatz(n):\n",
    "    while n > 1:\n",
    "        print(n, end=' ')\n",
    "        if (n % 2):\n",
    "            # n is odd\n",
    "            n = 3*n + 1\n",
    "        else:\n",
    "            # n is even\n",
    "            n = n//2\n",
    "    print(1, end='')\n",
    "n = int(input('Enter n: '))\n",
    "print('Sequence: ', end='')\n",
    "collatz(n)\n",
    "            \n",
    "            "
   ]
  },
  {
   "cell_type": "code",
   "execution_count": 58,
   "metadata": {},
   "outputs": [
    {
     "name": "stdout",
     "output_type": "stream",
     "text": [
      "Enter n: 54\n",
      "Number of set bits: 4\n"
     ]
    }
   ],
   "source": [
    "#55 Python Program to Count Set Bits in a Number\n",
    "def count_set_bits(n):\n",
    "    count = 0\n",
    "    while n:\n",
    "        n &= n - 1\n",
    "        count += 1\n",
    "    return count\n",
    " \n",
    " \n",
    "n = int(input('Enter n: '))\n",
    "print('Number of set bits:', count_set_bits(n))"
   ]
  },
  {
   "cell_type": "code",
   "execution_count": 59,
   "metadata": {},
   "outputs": [
    {
     "name": "stdout",
     "output_type": "stream",
     "text": [
      "Enter a number: 1024\n",
      "1024 is a power of two.\n"
     ]
    }
   ],
   "source": [
    "#56 Python Program to Find Whether a Number is a Power of Two\n",
    "def is_power_of_two(n):\n",
    "    \"\"\"Return True if n is a power of two.\"\"\"\n",
    "    if n <= 0:\n",
    "        return False\n",
    "    else:\n",
    "        return n & (n - 1) == 0\n",
    " \n",
    " \n",
    "n = int(input('Enter a number: '))\n",
    " \n",
    "if is_power_of_two(n):\n",
    "    print('{} is a power of two.'.format(n))\n",
    "else:\n",
    "    print('{} is not a power of two.'.format(n))"
   ]
  },
  {
   "cell_type": "code",
   "execution_count": 60,
   "metadata": {},
   "outputs": [
    {
     "name": "stdout",
     "output_type": "stream",
     "text": [
      "Enter a number: 524\n",
      "n with its rightmost set bit cleared equals: 520\n"
     ]
    }
   ],
   "source": [
    "#57 Python Program to Clear the Rightmost Set Bit of a Number\n",
    "def clear_rightmost_set_bit(n):\n",
    "    \"\"\"Clear rightmost set bit of n and return it.\"\"\"\n",
    "    return n & (n - 1)\n",
    " \n",
    " \n",
    "n = int(input('Enter a number: '))\n",
    "ans = clear_rightmost_set_bit(n)\n",
    "print('n with its rightmost set bit cleared equals:', ans)"
   ]
  },
  {
   "cell_type": "code",
   "execution_count": 61,
   "metadata": {},
   "outputs": [
    {
     "name": "stdout",
     "output_type": "stream",
     "text": [
      "Enter the number of bits: 3\n",
      "All 3-bit Gray Codes:\n",
      "['000', '001', '011', '010', '110', '111', '101', '100']\n"
     ]
    }
   ],
   "source": [
    "#58 Python Program to Generate Gray Codes using Recursion\n",
    "def get_gray_codes(n):\n",
    "    \"\"\"Return n-bit Gray code in a list.\"\"\"\n",
    "    if n == 0:\n",
    "        return ['']\n",
    "    first_half = get_gray_codes(n - 1)\n",
    "    second_half = first_half.copy()\n",
    " \n",
    "    first_half = ['0' + code for code in first_half]\n",
    "    second_half = ['1' + code for code in reversed(second_half)]\n",
    " \n",
    "    return first_half + second_half\n",
    " \n",
    " \n",
    "n = int(input('Enter the number of bits: '))\n",
    "codes = get_gray_codes(n)\n",
    "print('All {}-bit Gray Codes:'.format(n))\n",
    "print(codes)"
   ]
  },
  {
   "cell_type": "code",
   "execution_count": 65,
   "metadata": {},
   "outputs": [
    {
     "name": "stdout",
     "output_type": "stream",
     "text": [
      "Enter Gray codeword: 0101010\n",
      "In binary: 110011\n"
     ]
    }
   ],
   "source": [
    "#59 Python Program to Convert Gray Code to Binary\n",
    "def gray_to_binary(n):\n",
    "    \"\"\"Convert Gray codeword to binary and return it.\"\"\"\n",
    "    n = int(n, 2) \n",
    "    # convert to int\n",
    " \n",
    "    mask = n\n",
    "    while mask != 0:\n",
    "        mask >>= 1\n",
    "        n ^= mask\n",
    "        # bin(n) returns n's binary representation with a '0b' prefixed\n",
    "# the slice operation is to remove the prefix\n",
    "    return bin(n)[2:]\n",
    " \n",
    " \n",
    "g = input('Enter Gray codeword: ')\n",
    "b = gray_to_binary(g)\n",
    "print('In binary:', b)"
   ]
  },
  {
   "cell_type": "code",
   "execution_count": 66,
   "metadata": {},
   "outputs": [
    {
     "name": "stdout",
     "output_type": "stream",
     "text": [
      "Enter binary number: 110011\n",
      "Gray codeword: 101010\n"
     ]
    }
   ],
   "source": [
    "#60 Python Program to Convert Binary to Gray Code\n",
    "def binary_to_gray(n):\n",
    "    \"\"\"Convert Binary to Gray codeword and return it.\"\"\"\n",
    "    n = int(n, 2) \n",
    "# convert to int\n",
    "    n ^= (n >> 1)\n",
    "# bin(n) returns n's binary representation with a '0b' prefixed\n",
    "# the slice operation is to remove the prefix\n",
    "    return bin(n)[2:]\n",
    " \n",
    " \n",
    "g = input('Enter binary number: ')\n",
    "b = binary_to_gray(g)\n",
    "print('Gray codeword:', b)"
   ]
  },
  {
   "cell_type": "code",
   "execution_count": 67,
   "metadata": {},
   "outputs": [
    {
     "name": "stdout",
     "output_type": "stream",
     "text": [
      "Enter number of elements:3\n",
      "Enter element:5\n",
      "Enter element:85\n",
      "Enter element:96\n",
      "Largest element is: 96\n"
     ]
    }
   ],
   "source": [
    "#61 Python Program to Find the Largest Number in a List\n",
    "a=[]\n",
    "n=int(input(\"Enter number of elements:\"))\n",
    "for i in range(1,n+1):\n",
    "    b=int(input(\"Enter element:\"))\n",
    "    a.append(b)\n",
    "a.sort()\n",
    "print(\"Largest element is:\",a[n-1])"
   ]
  },
  {
   "cell_type": "code",
   "execution_count": 68,
   "metadata": {},
   "outputs": [
    {
     "name": "stdout",
     "output_type": "stream",
     "text": [
      "Enter number of elements:6\n",
      "Enter element:2\n",
      "Enter element:5\n",
      "Enter element:8\n",
      "Enter element:74\n",
      "Enter element:25\n",
      "Enter element:21\n",
      "Second largest element is: 25\n"
     ]
    }
   ],
   "source": [
    "#62 Python Program to Find the Second Largest Number in a List\n",
    "a=[]\n",
    "n=int(input(\"Enter number of elements:\"))\n",
    "for i in range(1,n+1):\n",
    "    b=int(input(\"Enter element:\"))\n",
    "    a.append(b)\n",
    "a.sort()\n",
    "print(\"Second largest element is:\",a[n-2])"
   ]
  },
  {
   "cell_type": "code",
   "execution_count": 69,
   "metadata": {},
   "outputs": [
    {
     "name": "stdout",
     "output_type": "stream",
     "text": [
      "Enter number of elements:5\n",
      "Enter element:2\n",
      "Enter element:1\n",
      "Enter element:3\n",
      "Enter element:4\n",
      "Enter element:2\n",
      "The even list [2, 4, 2]\n",
      "The odd list [1, 3]\n"
     ]
    }
   ],
   "source": [
    "#63 Python Program to Put Even and Odd elements in a List into Two Different Lists\n",
    "a=[]\n",
    "n=int(input(\"Enter number of elements:\"))\n",
    "for i in range(1,n+1):\n",
    "    b=int(input(\"Enter element:\"))\n",
    "    a.append(b)\n",
    "even=[]\n",
    "odd=[]\n",
    "for j in a:\n",
    "    if(j%2==0):\n",
    "        even.append(j)\n",
    "    else:\n",
    "        odd.append(j)\n",
    "print(\"The even list\",even)\n",
    "print(\"The odd list\",odd)"
   ]
  },
  {
   "cell_type": "code",
   "execution_count": 70,
   "metadata": {},
   "outputs": [
    {
     "name": "stdout",
     "output_type": "stream",
     "text": [
      "Enter number of elements:3\n",
      "Enter element:2\n",
      "Enter element:5\n",
      "Enter element:6\n",
      "Enter number of elements:4\n",
      "Enter element:1\n",
      "Enter element:8\n",
      "Enter element:5\n",
      "Enter element:9\n",
      "Sorted list is: [1, 2, 5, 5, 6, 8, 9]\n"
     ]
    }
   ],
   "source": [
    "#64 Python Program to Merge Two Lists and Sort it\n",
    "a=[]\n",
    "c=[]\n",
    "n1=int(input(\"Enter number of elements:\"))\n",
    "for i in range(1,n1+1):\n",
    "    b=int(input(\"Enter element:\"))\n",
    "    a.append(b)\n",
    "n2=int(input(\"Enter number of elements:\"))\n",
    "for i in range(1,n2+1):\n",
    "    d=int(input(\"Enter element:\"))\n",
    "    c.append(d)\n",
    "new=a+c\n",
    "new.sort()\n",
    "print(\"Sorted list is:\",new)"
   ]
  },
  {
   "cell_type": "code",
   "execution_count": 71,
   "metadata": {},
   "outputs": [
    {
     "name": "stdout",
     "output_type": "stream",
     "text": [
      "[['B', 21], ['C', 26], ['A', 34]]\n"
     ]
    }
   ],
   "source": [
    "#65 Python Program to Sort the List According to the Second Element in Sublist\n",
    "a=[['A',34],['B',21],['C',26]]\n",
    "for i in range(0,len(a)):\n",
    "    for j in range(0,len(a)-i-1):\n",
    "        if(a[j][1]>a[j+1][1]):\n",
    "            temp=a[j]\n",
    "            a[j]=a[j+1]\n",
    "            a[j+1]=temp\n",
    " \n",
    "print(a)"
   ]
  },
  {
   "cell_type": "code",
   "execution_count": 72,
   "metadata": {},
   "outputs": [
    {
     "name": "stdout",
     "output_type": "stream",
     "text": [
      "Enter number of elements:6\n",
      "Enter element:1\n",
      "Enter element:2\n",
      "Enter element:3\n",
      "Enter element:5\n",
      "Enter element:6\n",
      "Enter element:8\n",
      "Second largest number is: 6\n"
     ]
    }
   ],
   "source": [
    "#66 Python Program to Find the Second Largest Number in a List Using Bubble Sort\n",
    "a=[]\n",
    "n=int(input(\"Enter number of elements:\"))\n",
    "for i in range(1,n+1):\n",
    "    b=int(input(\"Enter element:\"))\n",
    "    a.append(b)\n",
    "for i in range(0,len(a)):\n",
    "    for j in range(0,len(a)-i-1):\n",
    "        if(a[j]>a[j+1]):\n",
    "            temp=a[j]\n",
    "            a[j]=a[j+1]\n",
    "            a[j+1]=temp \n",
    "print('Second largest number is:',a[n-2])"
   ]
  },
  {
   "cell_type": "code",
   "execution_count": 73,
   "metadata": {},
   "outputs": [
    {
     "name": "stdout",
     "output_type": "stream",
     "text": [
      "Enter number of elements:6\n",
      "Enter element:2\n",
      "Enter element:3\n",
      "Enter element:5\n",
      "Enter element:85\n",
      "Enter element:624\n",
      "Enter element:352\n",
      "['2', '3', '5', '85', '624', '352']\n"
     ]
    }
   ],
   "source": [
    "#67 Python Program to Sort a List According to the Length of the Elements\n",
    "a=[]\n",
    "n=int(input(\"Enter number of elements:\"))\n",
    "for i in range(1,n+1):\n",
    "    b=input(\"Enter element:\")\n",
    "    a.append(b)\n",
    "a.sort(key=len)\n",
    "print(a)"
   ]
  },
  {
   "cell_type": "code",
   "execution_count": 74,
   "metadata": {},
   "outputs": [
    {
     "name": "stdout",
     "output_type": "stream",
     "text": [
      "Enter size of list 1: 2\n",
      "Enter any number:2\n",
      "Enter any number:63\n",
      "Enter size of list 2:5\n",
      "Enter any number:25\n",
      "Enter any number:263\n",
      "Enter any number:3258\n",
      "Enter any number:6325\n",
      "Enter any number:2222\n",
      "The Union of two lists is: [2, 263, 2222, 6325, 25, 3258, 63]\n"
     ]
    }
   ],
   "source": [
    "#68 Python Program to Find the Union of two Lists\n",
    "l1 = []\n",
    "num1 = int(input('Enter size of list 1: '))\n",
    "for n in range(num1):\n",
    "    numbers1 = int(input('Enter any number:'))\n",
    "    l1.append(numbers1)\n",
    " \n",
    "l2 = []\n",
    "num2 = int(input('Enter size of list 2:'))\n",
    "for n in range(num2):\n",
    "    numbers2 = int(input('Enter any number:'))\n",
    "    l2.append(numbers2)\n",
    " \n",
    "union = list(set().union(l1,l2))\n",
    " \n",
    "print('The Union of two lists is:',union)"
   ]
  },
  {
   "cell_type": "code",
   "execution_count": 75,
   "metadata": {},
   "outputs": [
    {
     "name": "stdout",
     "output_type": "stream",
     "text": [
      "Enter number of elements for list1:3\n",
      "Enter number of elements for list2:5\n",
      "For list1:\n",
      "Enter element1:2\n",
      "Enter element2:5\n",
      "Enter element3:36\n",
      "For list2:\n",
      "Enter element1:254\n",
      "Enter element2:2253\n",
      "Enter element3:6589\n",
      "Enter element4:214\n",
      "Enter element5:528745\n",
      "The intersection is :\n",
      "[]\n"
     ]
    }
   ],
   "source": [
    "#69 Python Program to Find the Intersection of Two Lists\n",
    "def intersection(a, b):\n",
    "    return list(set(a) & set(b))\n",
    " \n",
    "def main():\n",
    "    alist=[]\n",
    "    blist=[]\n",
    "    n1=int(input(\"Enter number of elements for list1:\"))\n",
    "    n2=int(input(\"Enter number of elements for list2:\"))\n",
    "    print(\"For list1:\")\n",
    "    for x in range(0,n1):\n",
    "        element=int(input(\"Enter element\" + str(x+1) + \":\"))\n",
    "        alist.append(element)\n",
    "    print(\"For list2:\")\n",
    "    for x in range(0,n2):\n",
    "        element=int(input(\"Enter element\" + str(x+1) + \":\"))\n",
    "        blist.append(element)\n",
    "    print(\"The intersection is :\")\n",
    "    print(intersection(alist, blist))\n",
    "main()"
   ]
  },
  {
   "cell_type": "code",
   "execution_count": 76,
   "metadata": {},
   "outputs": [
    {
     "name": "stdout",
     "output_type": "stream",
     "text": [
      "Enter the lower range:2\n",
      "Enter the upper range:96\n",
      "[(2, 4), (3, 9), (4, 16), (5, 25), (6, 36), (7, 49), (8, 64), (9, 81), (10, 100), (11, 121), (12, 144), (13, 169), (14, 196), (15, 225), (16, 256), (17, 289), (18, 324), (19, 361), (20, 400), (21, 441), (22, 484), (23, 529), (24, 576), (25, 625), (26, 676), (27, 729), (28, 784), (29, 841), (30, 900), (31, 961), (32, 1024), (33, 1089), (34, 1156), (35, 1225), (36, 1296), (37, 1369), (38, 1444), (39, 1521), (40, 1600), (41, 1681), (42, 1764), (43, 1849), (44, 1936), (45, 2025), (46, 2116), (47, 2209), (48, 2304), (49, 2401), (50, 2500), (51, 2601), (52, 2704), (53, 2809), (54, 2916), (55, 3025), (56, 3136), (57, 3249), (58, 3364), (59, 3481), (60, 3600), (61, 3721), (62, 3844), (63, 3969), (64, 4096), (65, 4225), (66, 4356), (67, 4489), (68, 4624), (69, 4761), (70, 4900), (71, 5041), (72, 5184), (73, 5329), (74, 5476), (75, 5625), (76, 5776), (77, 5929), (78, 6084), (79, 6241), (80, 6400), (81, 6561), (82, 6724), (83, 6889), (84, 7056), (85, 7225), (86, 7396), (87, 7569), (88, 7744), (89, 7921), (90, 8100), (91, 8281), (92, 8464), (93, 8649), (94, 8836), (95, 9025), (96, 9216)]\n"
     ]
    }
   ],
   "source": [
    "#70 Python Program to Create a List of Tuples with the First Element as the Number and Second Element as the Square of the Number\n",
    "l_range=int(input(\"Enter the lower range:\"))\n",
    "u_range=int(input(\"Enter the upper range:\"))\n",
    "a=[(x,x**2) for x in range(l_range,u_range+1)]\n",
    "print(a)"
   ]
  },
  {
   "cell_type": "code",
   "execution_count": 77,
   "metadata": {},
   "outputs": [
    {
     "name": "stdout",
     "output_type": "stream",
     "text": [
      "Enter lower range: 3\n",
      "Enter upper range: 47\n",
      "[4, 9, 16, 25, 36]\n"
     ]
    }
   ],
   "source": [
    "#71 Python Program to Find all Numbers in a Range which are Perfect Squares and Sum of all Digits in the Number is Less than 10\n",
    "l=int(input(\"Enter lower range: \"))\n",
    "u=int(input(\"Enter upper range: \"))\n",
    "a=[]\n",
    "a=[x for x in range(l,u+1) if (int(x**0.5))**2==x and sum(list(map(int,str(x))))<10]\n",
    "print(a)"
   ]
  },
  {
   "cell_type": "code",
   "execution_count": 78,
   "metadata": {},
   "outputs": [
    {
     "name": "stdout",
     "output_type": "stream",
     "text": [
      "Enter the number of elements in list:6\n",
      "Enter element1:20\n",
      "Enter element2:52\n",
      "Enter element3:635\n",
      "Enter element4:985\n",
      "Enter element5:632\n",
      "Enter element6:85\n",
      "The original list is:  [20, 52, 635, 985, 632, 85]\n",
      "The new list is:  [20, 72, 707, 1692, 2324, 2409]\n"
     ]
    }
   ],
   "source": [
    "#72 Python Program to Find the Cumulative Sum of a List where the ith Element is the Sum of the First i+1 Elements From The Original List\n",
    "a=[]\n",
    "n= int(input(\"Enter the number of elements in list:\"))\n",
    "for x in range(0,n):\n",
    "    element=int(input(\"Enter element\" + str(x+1) + \":\"))\n",
    "    a.append(element)\n",
    "b=[sum(a[0:x+1]) for x in range(0,len(a))]\n",
    "print(\"The original list is: \",a)\n",
    "print(\"The new list is: \",b)"
   ]
  },
  {
   "cell_type": "code",
   "execution_count": 79,
   "metadata": {},
   "outputs": [
    {
     "name": "stdout",
     "output_type": "stream",
     "text": [
      "Enter number of elements:5\n",
      "Randomised list is:  [11, 7, 19, 5, 7]\n"
     ]
    }
   ],
   "source": [
    "#73 Python Program to Generate Random Numbers from 1 to 20 and Append Them to the List\n",
    "import random\n",
    "a=[]\n",
    "n=int(input(\"Enter number of elements:\"))\n",
    "for j in range(n):\n",
    "    a.append(random.randint(1,20))\n",
    "print('Randomised list is: ',a)"
   ]
  },
  {
   "cell_type": "code",
   "execution_count": 80,
   "metadata": {},
   "outputs": [
    {
     "name": "stdout",
     "output_type": "stream",
     "text": [
      "Enter a list of tuples:2,0\n",
      "Sorted:\n",
      "[',', '0', '2']\n"
     ]
    }
   ],
   "source": [
    "#74 Python program to Sort a List of Tuples in Increasing Order by the Last Element in Each Tuple\n",
    "def last(n):\n",
    "    return n[-1]  \n",
    " \n",
    "def sort(tuples):\n",
    "    return sorted(tuples, key=last)\n",
    " \n",
    "a=input(\"Enter a list of tuples:\")\n",
    "print(\"Sorted:\")\n",
    "print(sort(a))"
   ]
  },
  {
   "cell_type": "code",
   "execution_count": 81,
   "metadata": {},
   "outputs": [
    {
     "name": "stdout",
     "output_type": "stream",
     "text": [
      "Enter the number of elements in list:5\n",
      "Enter element1:20\n",
      "Enter element2:140\n",
      "Enter element3:25\n",
      "Enter element4:658\n",
      "Enter element5:632\n",
      "New list is:\n",
      "[632, 140, 25, 658, 20]\n"
     ]
    }
   ],
   "source": [
    "#75 Python Program to Swap the First and Last Value of a List\n",
    "a=[]\n",
    "n= int(input(\"Enter the number of elements in list:\"))\n",
    "for x in range(0,n):\n",
    "    element=int(input(\"Enter element\" + str(x+1) + \":\"))\n",
    "    a.append(element)\n",
    "temp=a[0]\n",
    "a[0]=a[n-1]\n",
    "a[n-1]=temp\n",
    "print(\"New list is:\")\n",
    "print(a)"
   ]
  },
  {
   "cell_type": "code",
   "execution_count": 82,
   "metadata": {},
   "outputs": [
    {
     "name": "stdout",
     "output_type": "stream",
     "text": [
      "Enter the number of elements in list:5\n",
      "Enter element1:21\n",
      "Enter element2:52\n",
      "Enter element3:41\n",
      "Enter element4:52\n",
      "Enter element5:325\n",
      "Non-duplicate items:\n",
      "[21, 52, 41, 325]\n"
     ]
    }
   ],
   "source": [
    "#76 Python Program to Remove the Duplicate Items from a List\n",
    "a=[]\n",
    "n= int(input(\"Enter the number of elements in list:\"))\n",
    "for x in range(0,n):\n",
    "    element=int(input(\"Enter element\" + str(x+1) + \":\"))\n",
    "    a.append(element)\n",
    "b = set()\n",
    "unique = []\n",
    "for x in a:\n",
    "    if x not in b:\n",
    "        unique.append(x)\n",
    "        b.add(x)\n",
    "print(\"Non-duplicate items:\")\n",
    "print(unique)"
   ]
  },
  {
   "cell_type": "code",
   "execution_count": 83,
   "metadata": {},
   "outputs": [
    {
     "name": "stdout",
     "output_type": "stream",
     "text": [
      "Enter the number of elements in list:3\n",
      "Enter element1:52\n",
      "Enter element2:41\n",
      "Enter element3:85\n",
      "The word with the longest length is:\n",
      "52\n"
     ]
    }
   ],
   "source": [
    "#77 Python Program to Read a List of Words and Return the Length of the Longest One\n",
    "a=[]\n",
    "n= int(input(\"Enter the number of elements in list:\"))\n",
    "for x in range(0,n):\n",
    "    element=input(\"Enter element\" + str(x+1) + \":\")\n",
    "    a.append(element)\n",
    "max1=len(a[0])\n",
    "temp=a[0]\n",
    "for i in a:\n",
    "    if(len(i)>max1):\n",
    "       max1=len(i)\n",
    "       temp=i\n",
    "print(\"The word with the longest length is:\")\n",
    "print(temp)"
   ]
  },
  {
   "cell_type": "code",
   "execution_count": 84,
   "metadata": {},
   "outputs": [
    {
     "name": "stdout",
     "output_type": "stream",
     "text": [
      "Enter the number of elements in list:5\n",
      "Enter element1:85\n",
      "Enter element2:47\n",
      "Enter element3:562\n",
      "Enter element4:325\n",
      "Enter element5:32\n",
      "['85', '47', '562', '325', '32']\n",
      "Enter word to remove: 5\n",
      "Enter the occurrence to remove: 3\n",
      "Item not found \n"
     ]
    }
   ],
   "source": [
    "#78 Python Program to Remove the ith Occurrence of the Given Word in a List where Words can Repeat\n",
    "a=[]\n",
    "n= int(input(\"Enter the number of elements in list:\"))\n",
    "for x in range(0,n):\n",
    "    element=input(\"Enter element\" + str(x+1) + \":\")\n",
    "    a.append(element)\n",
    "print(a)\n",
    "c=[]\n",
    "count=0\n",
    "b=input(\"Enter word to remove: \")\n",
    "n=int(input(\"Enter the occurrence to remove: \"))\n",
    "for i in a:\n",
    "    if(i==b):\n",
    "        count=count+1\n",
    "        if(count!=n):\n",
    "            c.append(i)\n",
    "    else:\n",
    "        c.append(i)\n",
    "if(count==0):\n",
    "    print(\"Item not found \")\n",
    "else: \n",
    "    print(\"The number of repetitions is: \",count)\n",
    "    print(\"Updated list is: \",c)\n",
    "    print(\"The distinct elements are: \",set(a))"
   ]
  },
  {
   "cell_type": "code",
   "execution_count": 96,
   "metadata": {},
   "outputs": [
    {
     "name": "stdout",
     "output_type": "stream",
     "text": [
      "Enter the list of numbers: 8 5 9 6 2\n",
      "The maximum subarray starts at index 0, ends at index 4 and has sum 30.\n"
     ]
    }
   ],
   "source": [
    "#79 Python Program to solve Maximum Subarray Problem using Divide and Conquer\n",
    "def find_max_subarray(alist, start, end):\n",
    "    \"\"\"Returns (l, r, m) such that alist[l:r] is the maximum subarray in\n",
    "    A[start:end] with sum m. Here A[start:end] means all A[x] for start <= x <\n",
    "    end.\"\"\"\n",
    "    # base case\n",
    "    if start == end - 1:\n",
    "        return start, end, alist[start]\n",
    "    else:\n",
    "        mid = (start + end)//2\n",
    "        left_start, left_end, left_max = find_max_subarray(alist, start, mid)\n",
    "        right_start, right_end, right_max = find_max_subarray(alist, mid, end)\n",
    "        cross_start, cross_end, cross_max = find_max_crossing_subarray(alist, start, mid, end)\n",
    "        if (left_max > right_max and left_max > cross_max):\n",
    "            return left_start, left_end, left_max\n",
    "        elif (right_max > left_max and right_max > cross_max):\n",
    "            return right_start, right_end, right_max\n",
    "        else:\n",
    "            return cross_start, cross_end, cross_max\n",
    " \n",
    "def find_max_crossing_subarray(alist, start, mid, end):\n",
    "    \"\"\"Returns (l, r, m) such that alist[l:r] is the maximum subarray within\n",
    "    alist with start <= l < mid <= r < end with sum m. The arguments start, mid,\n",
    "    end must satisfy start <= mid <= end.\"\"\"\n",
    "    sum_left = float('-inf')\n",
    "    sum_temp = 0\n",
    "    cross_start = mid\n",
    "    for i in range(mid - 1, start - 1, -1):\n",
    "        sum_temp = sum_temp + alist[i]\n",
    "        if sum_temp > sum_left:\n",
    "            sum_left = sum_temp\n",
    "            cross_start = i\n",
    " \n",
    "    sum_right = float('-inf')\n",
    "    sum_temp = 0\n",
    "    cross_end = mid + 1\n",
    "    for i in range(mid, end):\n",
    "        sum_temp = sum_temp + alist[i]\n",
    "        if sum_temp > sum_right:\n",
    "            sum_right = sum_temp\n",
    "            cross_end = i + 1\n",
    "    return cross_start, cross_end, sum_left + sum_right\n",
    " \n",
    "alist = input('Enter the list of numbers: ')\n",
    "alist = alist.split()\n",
    "alist = [int(x) for x in alist]\n",
    "start, end, maximum = find_max_subarray(alist, 0, len(alist))\n",
    "print('The maximum subarray starts at index {}, ends at index {}'\n",
    "      ' and has sum {}.'.format(start, end - 1, maximum))"
   ]
  },
  {
   "cell_type": "code",
   "execution_count": 95,
   "metadata": {},
   "outputs": [
    {
     "name": "stdout",
     "output_type": "stream",
     "text": [
      "Enter the list of numbers: 2 5 6\n",
      "The maximum subarray starts at index 0, ends at index 2 and has sum 13.\n"
     ]
    }
   ],
   "source": [
    "#80 Python Program to solve Maximum Subarray Problem using Kadane’s Algorithm\n",
    "def find_max_subarray(alist, start, end):\n",
    "    \"\"\"Returns (l, r, m) such that alist[l:r] is the maximum subarray in\n",
    "    A[start:end] with sum m. Here A[start:end] means all A[x] for start <= x <\n",
    "    end.\"\"\"\n",
    "    max_ending_at_i = max_seen_so_far = alist[start]\n",
    "    max_left_at_i = max_left_so_far = start\n",
    "    \n",
    "    # max_right_at_i is always i + 1\n",
    "    max_right_so_far = start + 1\n",
    "    for i in range(start + 1, end):\n",
    "        if max_ending_at_i > 0:\n",
    "            max_ending_at_i += alist[i]\n",
    "        else:\n",
    "            max_ending_at_i = alist[i]\n",
    "            max_left_at_i = i\n",
    "        if max_ending_at_i > max_seen_so_far:\n",
    "            max_seen_so_far = max_ending_at_i\n",
    "            max_left_so_far = max_left_at_i\n",
    "            max_right_so_far = i + 1\n",
    "    return max_left_so_far, max_right_so_far, max_seen_so_far\n",
    " \n",
    " \n",
    "alist = input('Enter the list of numbers: ')\n",
    "alist = alist.split()\n",
    "alist = [int(x) for x in alist]\n",
    "start, end, maximum = find_max_subarray(alist, 0, len(alist))\n",
    "print('The maximum subarray starts at index {}, ends at index {}'\n",
    "      ' and has sum {}.'.format(start, end - 1, maximum))"
   ]
  },
  {
   "cell_type": "code",
   "execution_count": 97,
   "metadata": {},
   "outputs": [
    {
     "name": "stdout",
     "output_type": "stream",
     "text": [
      "Enter the list: 2 5 3 6 99 85\n",
      "The element that occurs odd number of times: 52\n"
     ]
    }
   ],
   "source": [
    "# Python Program to Find Element Occurring Odd Number of Times in a List\n",
    "def find_odd_occurring(alist):\n",
    "    \"\"\"Return the element that occurs odd number of times in alist.\n",
    " \n",
    "    alist is a list in which all elements except one element occurs an even\n",
    "    number of times.\n",
    "    \"\"\"\n",
    "    ans = 0\n",
    " \n",
    "    for element in alist:\n",
    "        ans ^= element\n",
    " \n",
    "    return ans\n",
    " \n",
    " \n",
    "alist = input('Enter the list: ').split()\n",
    "alist = [int(i) for i in alist]\n",
    "ans = find_odd_occurring(alist)\n",
    "print('The element that occurs odd number of times:', ans)"
   ]
  },
  {
   "cell_type": "code",
   "execution_count": 98,
   "metadata": {},
   "outputs": [
    {
     "name": "stdout",
     "output_type": "stream",
     "text": [
      "Enter string:kumar\n",
      "Modified string:\n",
      "kum$r\n"
     ]
    }
   ],
   "source": [
    "#81 Python Program to Replace all Occurrences of ‘a’ with $ in a String\n",
    "string=input(\"Enter string:\")\n",
    "string=string.replace('a','$')\n",
    "string=string.replace('A','$')\n",
    "print(\"Modified string:\")\n",
    "print(string)"
   ]
  },
  {
   "cell_type": "code",
   "execution_count": 100,
   "metadata": {},
   "outputs": [
    {
     "name": "stdout",
     "output_type": "stream",
     "text": [
      "Enter the string:end\n",
      "Enter the index of the character to remove:1\n",
      "Modified string:\n",
      "ed\n"
     ]
    }
   ],
   "source": [
    "#82 Python Program to Remove the nth Index Character from a Non-Empty String\n",
    "def remove(string, n):  \n",
    "      first = string[:n]   \n",
    "      last = string[n+1:]  \n",
    "      return first + last\n",
    "string=input(\"Enter the string:\")\n",
    "n=int(input(\"Enter the index of the character to remove:\"))\n",
    "print(\"Modified string:\")\n",
    "print(remove(string, n))"
   ]
  },
  {
   "cell_type": "code",
   "execution_count": 102,
   "metadata": {},
   "outputs": [
    {
     "name": "stdout",
     "output_type": "stream",
     "text": [
      "Enter first string:dua\n",
      "Enter second string:lipa\n",
      "The strings aren't anagrams.\n"
     ]
    }
   ],
   "source": [
    "#83 Python Program to Detect if Two Strings are Anagrams\n",
    "s1=input(\"Enter first string:\")\n",
    "s2=input(\"Enter second string:\")\n",
    "if(sorted(s1)==sorted(s2)):\n",
    "      print(\"The strings are anagrams.\")\n",
    "else:\n",
    "      print(\"The strings aren't anagrams.\")"
   ]
  },
  {
   "cell_type": "code",
   "execution_count": 103,
   "metadata": {},
   "outputs": [
    {
     "name": "stdout",
     "output_type": "stream",
     "text": [
      "Enter string:dua lipa\n",
      "Modified string:\n",
      "aua lipd\n"
     ]
    }
   ],
   "source": [
    "#84 Python Program to Form a New String where the First Character and the Last Character have been Exchanged\n",
    "def change(string):\n",
    "      return string[-1:] + string[1:-1] + string[:1]\n",
    "string=input(\"Enter string:\")\n",
    "print(\"Modified string:\")\n",
    "print(change(string))"
   ]
  },
  {
   "cell_type": "code",
   "execution_count": 104,
   "metadata": {},
   "outputs": [
    {
     "name": "stdout",
     "output_type": "stream",
     "text": [
      "Enter string:kumar\n",
      "Number of vowels are:\n",
      "2\n"
     ]
    }
   ],
   "source": [
    "#85 Python Program to Count the Number of Vowels in a String\n",
    "string=input(\"Enter string:\")\n",
    "vowels=0\n",
    "for i in string:\n",
    "      if(i=='a' or i=='e' or i=='i' or i=='o' or i=='u' or i=='A' or i=='E' or i=='I' or i=='O' or i=='U'):\n",
    "            vowels=vowels+1\n",
    "print(\"Number of vowels are:\")\n",
    "print(vowels)"
   ]
  },
  {
   "cell_type": "code",
   "execution_count": 106,
   "metadata": {},
   "outputs": [
    {
     "name": "stdout",
     "output_type": "stream",
     "text": [
      "Enter string:air force\n",
      "Modified string:\n",
      "air-force\n"
     ]
    }
   ],
   "source": [
    "#86 Python Program to Take in a String and Replace Every Blank Space with Hyphen\n",
    "string=input(\"Enter string:\")\n",
    "string=string.replace(' ','-')\n",
    "print(\"Modified string:\")\n",
    "print(string)"
   ]
  },
  {
   "cell_type": "code",
   "execution_count": 107,
   "metadata": {},
   "outputs": [
    {
     "name": "stdout",
     "output_type": "stream",
     "text": [
      "Enter string:end course\n",
      "Length of the string is:\n",
      "10\n"
     ]
    }
   ],
   "source": [
    "#87 Python Program to Calculate the Length of a String Without Using a Library Function\n",
    "string=input(\"Enter string:\")\n",
    "count=0\n",
    "for i in string:\n",
    "      count=count+1\n",
    "print(\"Length of the string is:\")\n",
    "print(count)"
   ]
  },
  {
   "cell_type": "code",
   "execution_count": 108,
   "metadata": {},
   "outputs": [
    {
     "name": "stdout",
     "output_type": "stream",
     "text": [
      "Enter string:nlp python\n",
      "Modified string is:\n",
      "nppto\n"
     ]
    }
   ],
   "source": [
    "#88 Python Program to Remove the Characters of Odd Index Values in a String\n",
    "def modify(string):  \n",
    "  final = \"\"   \n",
    "  for i in range(len(string)):  \n",
    "    if i % 2 == 0:  \n",
    "      final = final + string[i]  \n",
    "  return final\n",
    "string=input(\"Enter string:\")\n",
    "print(\"Modified string is:\")\n",
    "print(modify(string))"
   ]
  },
  {
   "cell_type": "code",
   "execution_count": 109,
   "metadata": {},
   "outputs": [
    {
     "name": "stdout",
     "output_type": "stream",
     "text": [
      "Enter string:number of chars\n",
      "Number of words in the string:\n",
      "3\n",
      "Number of characters in the string:\n",
      "15\n"
     ]
    }
   ],
   "source": [
    "#89 Python Program to Calculate the Number of Words and the Number of Characters Present in a String\n",
    "string=input(\"Enter string:\")\n",
    "char=0\n",
    "word=1\n",
    "for i in string:\n",
    "      char=char+1\n",
    "      if(i==' '):\n",
    "            word=word+1\n",
    "print(\"Number of words in the string:\")\n",
    "print(word)\n",
    "print(\"Number of characters in the string:\")\n",
    "print(char)"
   ]
  },
  {
   "cell_type": "code",
   "execution_count": 110,
   "metadata": {},
   "outputs": [
    {
     "name": "stdout",
     "output_type": "stream",
     "text": [
      "Enter first string:character\n",
      "Enter second string:char\n",
      "Larger string is:\n",
      "character\n"
     ]
    }
   ],
   "source": [
    "#90 Python Program to Take in Two Strings and Display the Larger String without Using Built-in Functions\n",
    "string1=input(\"Enter first string:\")\n",
    "string2=input(\"Enter second string:\")\n",
    "count1=0\n",
    "count2=0\n",
    "for i in string1:\n",
    "      count1=count1+1\n",
    "for j in string2:\n",
    "      count2=count2+1\n",
    "if(count1<count2):\n",
    "      print(\"Larger string is:\")\n",
    "      print(string2)\n",
    "elif(count1==count2):\n",
    "      print(\"Both strings are equal.\")\n",
    "else:\n",
    "      print(\"Larger string is:\")\n",
    "      print(string1)"
   ]
  },
  {
   "cell_type": "code",
   "execution_count": 112,
   "metadata": {},
   "outputs": [
    {
     "name": "stdout",
     "output_type": "stream",
     "text": [
      "Enter string:This is a new course\n",
      "The number of lowercase characters is:\n",
      "15\n"
     ]
    }
   ],
   "source": [
    "#91 Python Program to Count Number of Lowercase Characters in a String\n",
    "string=input(\"Enter string:\")\n",
    "count=0\n",
    "for i in string:\n",
    "      if(i.islower()):\n",
    "            count=count+1\n",
    "print(\"The number of lowercase characters is:\")\n",
    "print(count)"
   ]
  },
  {
   "cell_type": "code",
   "execution_count": 113,
   "metadata": {},
   "outputs": [
    {
     "name": "stdout",
     "output_type": "stream",
     "text": [
      "Enter string:tutu\n",
      "The string isn't a palindrome\n"
     ]
    }
   ],
   "source": [
    "#92 Python Program to Check if a String is a Palindrome or Not\n",
    "string=input(\"Enter string:\")\n",
    "if(string==string[::-1]):\n",
    "      print(\"The string is a palindrome\")\n",
    "else:\n",
    "      print(\"The string isn't a palindrome\")"
   ]
  },
  {
   "cell_type": "code",
   "execution_count": 114,
   "metadata": {},
   "outputs": [
    {
     "name": "stdout",
     "output_type": "stream",
     "text": [
      "Enter string:juxta\n",
      "The number of lowercase characters is:\n",
      "5\n",
      "The number of uppercase characters is:\n",
      "0\n"
     ]
    }
   ],
   "source": [
    "#93 Python Program to Calculate the Number of Upper Case Letters and Lower Case Letters in a String\n",
    "string=input(\"Enter string:\")\n",
    "count1=0\n",
    "count2=0\n",
    "for i in string:\n",
    "      if(i.islower()):\n",
    "            count1=count1+1\n",
    "      elif(i.isupper()):\n",
    "            count2=count2+1\n",
    "print(\"The number of lowercase characters is:\")\n",
    "print(count1)\n",
    "print(\"The number of uppercase characters is:\")\n",
    "print(count2)"
   ]
  },
  {
   "cell_type": "code",
   "execution_count": 116,
   "metadata": {},
   "outputs": [
    {
     "name": "stdout",
     "output_type": "stream",
     "text": [
      "Enter string:what is a pan\n",
      "The string isn't a pangram\n"
     ]
    }
   ],
   "source": [
    "#94 Python Program to Check if a String is a Pangram or Not\n",
    "from string import ascii_lowercase as asc_lower\n",
    "def check(s):\n",
    "    return set(asc_lower) - set(s.lower()) == set([])\n",
    "strng=input(\"Enter string:\")\n",
    "if(check(strng)==True):\n",
    "      print(\"The string is a pangram\")\n",
    "else:\n",
    "      print(\"The string isn't a pangram\")"
   ]
  },
  {
   "cell_type": "code",
   "execution_count": 117,
   "metadata": {},
   "outputs": [
    {
     "name": "stdout",
     "output_type": "stream",
     "text": [
      "Enter a hyphen separated sequence of words:\n",
      "this-is-a-sentence\n",
      "Sorted:\n",
      "a-is-sentence-this\n"
     ]
    }
   ],
   "source": [
    "#95 Python Program to Accept a Hyphen Separated Sequence of Words as Input and Print the Words in a Hyphen-Separated Sequence after Sorting them Alphabetically\n",
    "print(\"Enter a hyphen separated sequence of words:\")\n",
    "lst=[n for n in input().split('-')]  \n",
    "lst.sort()\n",
    "print(\"Sorted:\")\n",
    "print('-'.join(lst))"
   ]
  },
  {
   "cell_type": "code",
   "execution_count": 118,
   "metadata": {},
   "outputs": [
    {
     "name": "stdout",
     "output_type": "stream",
     "text": [
      "Enter string:dig8letter9\n",
      "The number of digits is:\n",
      "2\n",
      "The number of characters is:\n",
      "11\n"
     ]
    }
   ],
   "source": [
    "#96 Python Program to Calculate the Number of Digits and Letters in a String\n",
    "string=input(\"Enter string:\")\n",
    "count1=0\n",
    "count2=0\n",
    "for i in string:\n",
    "      if(i.isdigit()):\n",
    "            count1=count1+1\n",
    "      count2=count2+1\n",
    "print(\"The number of digits is:\")\n",
    "print(count1)\n",
    "print(\"The number of characters is:\")\n",
    "print(count2)"
   ]
  },
  {
   "cell_type": "code",
   "execution_count": 121,
   "metadata": {},
   "outputs": [
    {
     "name": "stdout",
     "output_type": "stream",
     "text": [
      "Enter string:k\n",
      "Newly formed string is:\n",
      "kk\n"
     ]
    }
   ],
   "source": [
    "#97 Python Program to Form a New String Made of the First 2 and Last 2 characters From a Given String\n",
    "string=input(\"Enter string:\")\n",
    "count=0\n",
    "for i in string:\n",
    "      count=count+1\n",
    "new=string[0:2]+string[count-2:count]\n",
    "print(\"Newly formed string is:\")\n",
    "print(new)"
   ]
  },
  {
   "cell_type": "code",
   "execution_count": 122,
   "metadata": {},
   "outputs": [
    {
     "name": "stdout",
     "output_type": "stream",
     "text": [
      "Enter string:how many times many times can we times\n",
      "Enter word:times\n",
      "Count of the word is:\n",
      "3\n"
     ]
    }
   ],
   "source": [
    "#98 Python Program to Count the Occurrences of Each Word in a Given String Sentence\n",
    "string=input(\"Enter string:\")\n",
    "word=input(\"Enter word:\")\n",
    "a=[]\n",
    "count=0\n",
    "a=string.split(\" \")\n",
    "for i in range(0,len(a)):\n",
    "      if(word==a[i]):\n",
    "            count=count+1\n",
    "print(\"Count of the word is:\")\n",
    "print(count)"
   ]
  },
  {
   "cell_type": "code",
   "execution_count": 2,
   "metadata": {},
   "outputs": [
    {
     "name": "stdout",
     "output_type": "stream",
     "text": [
      "Enter string:this is\n",
      "Enter word:hi\n",
      "Substring in string!\n"
     ]
    }
   ],
   "source": [
    "#99 Python Program to Check if a Substring is Present in a Given String\n",
    "string=input(\"Enter string:\")\n",
    "sub_str=input(\"Enter word:\")\n",
    "if(string.find(sub_str)==-1):\n",
    "      print(\"Substring not found in string!\")\n",
    "else:\n",
    "      print(\"Substring in string!\")"
   ]
  },
  {
   "cell_type": "code",
   "execution_count": 3,
   "metadata": {},
   "outputs": [
    {
     "name": "stdout",
     "output_type": "stream",
     "text": [
      "Enter the key (int) to be added:5\n",
      "Enter the value for the key to be added:55\n",
      "Updated dictionary is:\n",
      "{5: 55}\n"
     ]
    }
   ],
   "source": [
    "#100 Python Program to Add a Key-Value Pair to the Dictionary\n",
    "key=int(input(\"Enter the key (int) to be added:\"))\n",
    "value=int(input(\"Enter the value for the key to be added:\"))\n",
    "d={}\n",
    "d.update({key:value})\n",
    "print(\"Updated dictionary is:\")\n",
    "print(d)"
   ]
  }
 ],
 "metadata": {
  "kernelspec": {
   "display_name": "Python 3",
   "language": "python",
   "name": "python3"
  },
  "language_info": {
   "codemirror_mode": {
    "name": "ipython",
    "version": 3
   },
   "file_extension": ".py",
   "mimetype": "text/x-python",
   "name": "python",
   "nbconvert_exporter": "python",
   "pygments_lexer": "ipython3",
   "version": "3.8.5"
  }
 },
 "nbformat": 4,
 "nbformat_minor": 4
}
